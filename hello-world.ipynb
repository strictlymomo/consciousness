{
  "cells": [
    {
      "cell_type": "markdown",
      "metadata": {
        "id": "O0kH5tKLJw0Q"
      },
      "source": [
        "In this tutorial, we learn how to:\n",
        "- load text+metadata records from a dataset\n",
        "- inspect and preprocess raw texts\n",
        "- add a collection of documents processed by spaCy into a corpus\n",
        "- inspect aggregated corpus metadata\n",
        "- extract different kinds of structured data from one or many documents"
      ]
    },
    {
      "cell_type": "code",
      "execution_count": 1,
      "metadata": {
        "colab": {
          "base_uri": "https://localhost:8080/"
        },
        "id": "SUBxCULCBY_r",
        "outputId": "117a0ac2-db69-47c1-dfc2-d5e0ff144e3b"
      },
      "outputs": [],
      "source": [
        "# Explore how certain members of the U.S. Congress have spoken about 'workers'\n",
        "#   - dataset of thousands of speeches sourced from the Congressional Record.\n",
        "\n",
        "import textacy.datasets\n",
        "\n",
        "def load_dataset():\n",
        "  dataset = textacy.datasets.CapitolWords()\n",
        "  dataset.info\n",
        "  {'name': 'capitol_words',\n",
        "  'site_url': 'http://sunlightlabs.github.io/Capitol-Words/',\n",
        "  'description': 'Collection of ~11k speeches in the Congressional Record given by notable U.S. politicians between Jan 1996 and Jun 2016.'}\n",
        "  dataset.download()\n",
        "  return dataset\n",
        "\n",
        "dataset = load_dataset()"
      ]
    },
    {
      "cell_type": "code",
      "execution_count": 2,
      "metadata": {
        "colab": {
          "base_uri": "https://localhost:8080/"
        },
        "id": "7yd3rI-nBvhu",
        "outputId": "5c14c2ed-4e84-4b84-9477-f66fe07b740e"
      },
      "outputs": [
        {
          "data": {
            "text/plain": [
              "Record(text='Mr. Speaker, 480,000 Federal employees are working without pay, a form of involuntary servitude; 280,000 Federal employees are not working, and they will be paid. Virtually all of these workers have mortgages to pay, children to feed, and financial obligations to meet.\\nMr. Speaker, what is happening to these workers is immoral, is wrong, and must be rectified immediately. Newt Gingrich and the Republican leadership must not continue to hold the House and the American people hostage while they push their disastrous 7-year balanced budget plan. The gentleman from Georgia, Mr. Gingrich, and the Republican leadership must join Senator Dole and the entire Senate and pass a continuing resolution now, now to reopen Government.\\nMr. Speaker, that is what the American people want, that is what they need, and that is what this body must do.', meta={'date': '1996-01-04', 'congress': 104, 'speaker_name': 'Bernie Sanders', 'speaker_party': 'I', 'title': 'JOIN THE SENATE AND PASS A CONTINUING RESOLUTION', 'chamber': 'House'})"
            ]
          },
          "execution_count": 2,
          "metadata": {},
          "output_type": "execute_result"
        }
      ],
      "source": [
        "# Each record contains full text of speech and basic metadata\n",
        "\n",
        "record = next(dataset.records(limit=1))\n",
        "record\n"
      ]
    },
    {
      "cell_type": "code",
      "execution_count": 3,
      "metadata": {
        "colab": {
          "base_uri": "https://localhost:8080/"
        },
        "id": "IDS9s37yCBJp",
        "outputId": "137e4f4e-5002-4592-e6c9-4b5242ed8f31"
      },
      "outputs": [
        {
          "data": {
            "text/plain": [
              "[('ker, 480,000 Federal employees are ',\n",
              "  'working',\n",
              "  ' without pay, a form of involuntary'),\n",
              " (' 280,000 Federal employees are not ',\n",
              "  'working',\n",
              "  ', and they will be paid. Virtually '),\n",
              " ('ll be paid. Virtually all of these ',\n",
              "  'workers',\n",
              "  ' have mortgages to pay, children to'),\n",
              " ('peaker, what is happening to these ',\n",
              "  'workers',\n",
              "  ' is immoral, is wrong, and must be ')]"
            ]
          },
          "execution_count": 3,
          "metadata": {},
          "output_type": "execute_result"
        }
      ],
      "source": [
        "# Avoid a full read-through and extract only specific parts of interest\n",
        "\n",
        "from textacy import extract\n",
        "textacy.set_doc_extensions(\"extract\")  # just setting these now -- we'll use them later!\n",
        "\n",
        "# As a first step, inspect our keywords in context\n",
        "list(extract.keyword_in_context(record.text, \"work(ing|ers?)\", window_width=35))\n"
      ]
    },
    {
      "cell_type": "code",
      "execution_count": 4,
      "metadata": {
        "colab": {
          "base_uri": "https://localhost:8080/",
          "height": 52
        },
        "id": "LuoBKF4cCO42",
        "outputId": "5487464e-1820-4276-9178-ed6a5320d2fe"
      },
      "outputs": [
        {
          "data": {
            "text/plain": [
              "'Mr. Speaker, 480,000 Federal employees are working without pay, a form of involuntary servitude; 280,000 Federal employees are not working, and they will be paid. Virtually all of these workers have m'"
            ]
          },
          "execution_count": 4,
          "metadata": {},
          "output_type": "execute_result"
        }
      ],
      "source": [
        "# preprocess the text to get rid of potential data quality issues and other distractions that may affect our analysis\n",
        "\n",
        "from textacy import preprocessing as preproc\n",
        "\n",
        "preprocessor = preproc.make_pipeline(\n",
        "    preproc.normalize.unicode,\n",
        "    preproc.normalize.quotation_marks,\n",
        "    preproc.normalize.whitespace,\n",
        ")\n",
        "preproc_text = preprocessor(record.text)\n",
        "preproc_text[:200]\n",
        "\n",
        "# changes are “destructive” — can’t reconstruct the original without keeping a copy around or re-loading it from disk\n"
      ]
    },
    {
      "cell_type": "code",
      "execution_count": 5,
      "metadata": {
        "colab": {
          "base_uri": "https://localhost:8080/"
        },
        "id": "BmzZgvoXCoDg",
        "outputId": "3679997e-9871-4126-9b0c-56cf1328bf7f"
      },
      "outputs": [
        {
          "data": {
            "text/plain": [
              "{'date': '1996-01-04',\n",
              " 'congress': 104,\n",
              " 'speaker_name': 'Bernie Sanders',\n",
              " 'speaker_party': 'I',\n",
              " 'title': 'JOIN THE SENATE AND PASS A CONTINUING RESOLUTION',\n",
              " 'chamber': 'House'}"
            ]
          },
          "execution_count": 5,
          "metadata": {},
          "output_type": "execute_result"
        }
      ],
      "source": [
        "# make a spaCy Doc by applying a language-specific model pipeline to the text\n",
        "\n",
        "doc = textacy.make_spacy_doc((preproc_text, record.meta), lang=\"en_core_web_sm\")\n",
        "doc._.preview\n",
        "doc._.meta\n"
      ]
    },
    {
      "cell_type": "code",
      "execution_count": 6,
      "metadata": {
        "colab": {
          "base_uri": "https://localhost:8080/"
        },
        "id": "_anzq0GjC5_a",
        "outputId": "364285ff-200b-483e-c55f-467695b7c0eb"
      },
      "outputs": [
        {
          "data": {
            "text/plain": [
              "[these workers, these workers]"
            ]
          },
          "execution_count": 6,
          "metadata": {},
          "output_type": "execute_result"
        }
      ],
      "source": [
        "# get a sense of how 'workers' are described using annotated part-of-speech tags\n",
        "\n",
        "# extract just the adjectives and determinants immediately preceding our keyword\n",
        "patterns = [\n",
        "    {\n",
        "        \"POS\": {\n",
        "            \"IN\": [\"ADJ\", \"DET\"]\n",
        "            },\n",
        "        \"OP\": \"+\"\n",
        "    },\n",
        "    {\n",
        "        \"ORTH\": {\n",
        "            \"REGEX\": \"workers?\"\n",
        "            }\n",
        "    }\n",
        "]\n",
        "token_matches = extract.token_matches(doc, patterns)\n",
        "list(token_matches)\n",
        "\n",
        "# examples aren’t very interesting. would like results aggregated over all speeches: skilled workers, American workers, young workers..."
      ]
    },
    {
      "cell_type": "code",
      "execution_count": 7,
      "metadata": {
        "colab": {
          "base_uri": "https://localhost:8080/"
        },
        "id": "kSZIpU4SDapN",
        "outputId": "3fa062bd-479b-4352-8130-5b8a04848031"
      },
      "outputs": [
        {
          "name": "stdout",
          "output_type": "stream",
          "text": [
            "Corpus(500 docs, 291289 tokens)\n"
          ]
        }
      ],
      "source": [
        "# To accomplish this, load many records into a textacy.Corpus\n",
        "\n",
        "records = dataset.records(limit=500)\n",
        "preproc_records = ((preprocessor(text), meta) for text, meta in records)\n",
        "corpus = textacy.Corpus(\"en_core_web_sm\", data=preproc_records)\n",
        "print(corpus)"
      ]
    },
    {
      "cell_type": "code",
      "execution_count": 8,
      "metadata": {
        "colab": {
          "base_uri": "https://localhost:8080/"
        },
        "id": "ozI94BWNDpna",
        "outputId": "80214e6e-9563-41a0-c745-27b2b4f68ce1"
      },
      "outputs": [
        {
          "name": "stdout",
          "output_type": "stream",
          "text": [
            "('1996-01-04', '1997-04-24')\n",
            "Counter({'Rick Santorum': 147, 'Joseph Biden': 140, 'John Kasich': 99, 'Bernie Sanders': 92, 'Lindsey Graham': 22})\n"
          ]
        }
      ],
      "source": [
        "# get a better sense of what’s in our corpus by leveraging the documents’ metadata\n",
        "import collections\n",
        "\n",
        "date = corpus.agg_metadata(\"date\", min), corpus.agg_metadata(\"date\", max)\n",
        "speaker_name = corpus.agg_metadata(\"speaker_name\", collections.Counter)\n",
        "\n",
        "print(date)\n",
        "print(speaker_name)"
      ]
    },
    {
      "cell_type": "code",
      "execution_count": 9,
      "metadata": {
        "colab": {
          "base_uri": "https://localhost:8080/"
        },
        "id": "Bt_F6lcMGwPm",
        "outputId": "c01986bc-4770-4a94-ed5a-830002bf7ae0"
      },
      "outputs": [
        {
          "data": {
            "text/plain": [
              "[('american worker', 38),\n",
              " ('those worker', 5),\n",
              " ('the worker', 5),\n",
              " ('average american worker', 4),\n",
              " ('the average american worker', 4),\n",
              " ('more worker', 3),\n",
              " ('nonunion worker', 3),\n",
              " ('these worker', 2),\n",
              " ('federal worker', 2),\n",
              " ('that worker', 2),\n",
              " ('young worker', 2),\n",
              " ('skilled worker', 1),\n",
              " ('the more worker', 1),\n",
              " ('average worker', 1),\n",
              " ('young american worker', 1),\n",
              " ('most american worker', 1),\n",
              " ('any worker', 1),\n",
              " ('a worker', 1),\n",
              " ('social worker', 1),\n",
              " ('the social worker', 1)]"
            ]
          },
          "execution_count": 9,
          "metadata": {},
          "output_type": "execute_result"
        }
      ],
      "source": [
        "# extract matches from each processed document\n",
        "\n",
        "import itertools\n",
        "\n",
        "matches = itertools.chain.from_iterable(extract.token_matches(doc, patterns) for doc in corpus)\n",
        "\n",
        "# lemmatize their texts for consistency\n",
        "# inspect the most common descriptions of workers\n",
        "collections.Counter(match.lemma_ for match in matches).most_common(20)\n"
      ]
    },
    {
      "cell_type": "code",
      "execution_count": 10,
      "metadata": {
        "colab": {
          "base_uri": "https://localhost:8080/"
        },
        "id": "6bnCV2c0Hvuk",
        "outputId": "675fd96c-d2c1-4917-964f-4622c632ce67"
      },
      "outputs": [
        {
          "data": {
            "text/plain": [
              "[('year balanced budget plan', 0.033721812470386026),\n",
              " ('Mr. Speaker', 0.032162715590532916),\n",
              " ('Mr. Gingrich', 0.031358819981176664),\n",
              " ('american people', 0.026127522736294272),\n",
              " ('republican leadership', 0.025418705021243045),\n",
              " ('federal employee', 0.021731159162187104),\n",
              " ('Newt Gingrich', 0.01988327361247088),\n",
              " ('pay', 0.01893013131414319),\n",
              " ('involuntary servitude', 0.015559235022115406),\n",
              " ('entire Senate', 0.015032623278646101)]"
            ]
          },
          "execution_count": 10,
          "metadata": {},
          "output_type": "execute_result"
        }
      ],
      "source": [
        "# To better understand the context of these mentions, extract keyterms (the most important or “key” terms)\n",
        "\n",
        "corpus[0]._.extract_keyterms(\"textrank\", normalize=\"lemma\", window_size=10, edge_weighting=\"count\", topn=10)\n"
      ]
    },
    {
      "cell_type": "code",
      "execution_count": 11,
      "metadata": {
        "colab": {
          "base_uri": "https://localhost:8080/"
        },
        "id": "H-iASaVvH_Ev",
        "outputId": "86bc0be8-e3f7-4af5-deb7-4dd0a0aaf81b"
      },
      "outputs": [
        {
          "data": {
            "text/plain": [
              "[('minimum wage today', 0.15268345523692883),\n",
              " ('Mr. Speaker', 0.126296580748375),\n",
              " ('real wage', 0.11170539679079608),\n",
              " ('minimum wage', 0.10559792485488079),\n",
              " ('wage job', 0.10102361828065555),\n",
              " ('american worker', 0.09808577723575501),\n",
              " ('family friendly company', 0.07527248179516885),\n",
              " ('american people', 0.07230595280822842),\n",
              " ('family work strategy', 0.07139211174164181),\n",
              " ('new job', 0.07009455277537283),\n",
              " ('tax dollar', 0.06415552977734736),\n",
              " ('violent crime trust fund', 0.0606067871587139),\n",
              " ('crime bill trust fund', 0.060534358199475835),\n",
              " ('crime law trust fund', 0.05916903052361144),\n",
              " ('time job', 0.05699067136562006),\n",
              " ('russian poultry market', 0.05179865219250222),\n",
              " ('temporary job', 0.05103267543737575),\n",
              " ('low wage job', 0.050862416189779644),\n",
              " ('health care reform bill', 0.05047788075809563),\n",
              " ('Kennedy health insurance reform bill', 0.05024956756215013)]"
            ]
          },
          "execution_count": 11,
          "metadata": {},
          "output_type": "execute_result"
        }
      ],
      "source": [
        "# Now, select the subset of speeches in which “worker(s)” were mentioned\n",
        "docs_mentioning_workers = corpus.get(lambda doc: any(doc._.extract_regex_matches(\"workers?\")))\n",
        "\n",
        "# extract the keyterms from each and aggregaate\n",
        "kt_weights = collections.Counter()\n",
        "\n",
        "for doc in docs_mentioning_workers:\n",
        "  keyterms = doc._.extract_keyterms(\n",
        "      \"textrank\", normalize=\"lemma\",\n",
        "      window_size=10,\n",
        "      edge_weighting=\"count\",\n",
        "      topn=10\n",
        "  )\n",
        "  kt_weights.update(dict(keyterms))\n",
        "\n",
        "# rank the results\n",
        "kt_weights.most_common(20)\n",
        "\n",
        "# we can see from the list that 'workers' are brought up in discussion of jobs, the minimum wage, and trust funds. Makes sense!"
      ]
    }
  ],
  "metadata": {
    "colab": {
      "provenance": []
    },
    "kernelspec": {
      "display_name": "Python 3",
      "name": "python3"
    },
    "language_info": {
      "codemirror_mode": {
        "name": "ipython",
        "version": 3
      },
      "file_extension": ".py",
      "mimetype": "text/x-python",
      "name": "python",
      "nbconvert_exporter": "python",
      "pygments_lexer": "ipython3",
      "version": "3.9.13"
    }
  },
  "nbformat": 4,
  "nbformat_minor": 0
}
